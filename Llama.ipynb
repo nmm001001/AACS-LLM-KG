{
 "cells": [
  {
   "cell_type": "code",
   "execution_count": 1,
   "id": "83d6fc6b",
   "metadata": {},
   "outputs": [],
   "source": [
    "import torch\n",
    "from transformers import AutoTokenizer, AutoModelForCausalLM\n",
    "from tqdm import tqdm\n",
    "from huggingface_hub import notebook_login\n",
    "import spacy\n",
    "import pandas as pd\n",
    "\n",
    "import GPUtil\n",
    "import os\n",
    "import csv\n",
    "import time\n"
   ]
  },
  {
   "cell_type": "code",
   "execution_count": 2,
   "id": "1cbfb9c9",
   "metadata": {},
   "outputs": [
    {
     "data": {
      "text/plain": [
       "device(type='cuda')"
      ]
     },
     "execution_count": 2,
     "metadata": {},
     "output_type": "execute_result"
    }
   ],
   "source": [
    "device = torch.device(\"cuda\" if torch.cuda.is_available() else \"cpu\")\n",
    "device"
   ]
  },
  {
   "cell_type": "code",
   "execution_count": 3,
   "id": "b8fe59c0",
   "metadata": {},
   "outputs": [
    {
     "data": {
      "application/vnd.jupyter.widget-view+json": {
       "model_id": "25f8747c68e1461e9200bc2a2ac58f1c",
       "version_major": 2,
       "version_minor": 0
      },
      "text/plain": [
       "VBox(children=(HTML(value='<center> <img\\nsrc=https://huggingface.co/front/assets/huggingface_logo-noborder.sv…"
      ]
     },
     "metadata": {},
     "output_type": "display_data"
    }
   ],
   "source": [
    "notebook_login()\n"
   ]
  },
  {
   "cell_type": "code",
   "execution_count": 3,
   "id": "a1e65ecc",
   "metadata": {},
   "outputs": [],
   "source": [
    "class TextGenerator:\n",
    "    def __init__(self, model_name, max_length, eight_bit=False, four_bit=False):\n",
    "        self.tokenizer = AutoTokenizer.from_pretrained(model_name)\n",
    "        self.tokenizer.pad_token_id = self.tokenizer.eos_token_id\n",
    "        self.model = AutoModelForCausalLM.from_pretrained(model_path,cache_dir=f\"/work/acslab/shared/models/\", device_map=\"auto\", torch_dtype=torch.float32, load_in_8bit=eight_bit, load_in_4bit=four_bit)\n",
    "        self.gpu_memory_usage = [GPUtil.getGPUs()[0].memoryUsed / 1024]  ##GB\n",
    "        print(f\"VRAM Usage (just model loaded): {self.gpu_memory_usage} GB\")\n",
    "\n",
    "        self.max_context_window = max_length\n",
    "        self.max_history_length = max_length\n",
    "        self.conversation_history = []\n",
    "\n",
    "    \n",
    "    def add_to_history(self, text):\n",
    "        tokenized_text = self.tokenizer.encode(text, return_tensors=\"pt\")\n",
    "        \n",
    "        self.conversation_history.append(tokenized_text)\n",
    "        while len(self.conversation_history) > self.max_context_window:\n",
    "            self.conversation_history.pop(0)\n",
    "    \n",
    "\n",
    "    ## max context window for Llama-2 is 4096 tokens\n",
    "    def generate_text(self, input_text, max_length, num_return_sequences=1, test_tps_speed=False):\n",
    "        start = time.time()\n",
    "        self.add_to_history(input_text)\n",
    "        input_ids = torch.cat(self.conversation_history, dim=1).to(device)\n",
    "    \n",
    "        conversation_history_text = self.tokenizer.decode(input_ids[0], skip_special_tokens=True)\n",
    "        print(\"Conversation History:\", conversation_history_text)\n",
    "    \n",
    "        output = self.model.generate(input_ids, max_length=max_length, num_return_sequences=num_return_sequences)\n",
    "        generated_text = [self.tokenizer.decode(output[i], skip_special_tokens=True) for i in range(num_return_sequences)]\n",
    "    \n",
    "        print(\"Generated Response:\", generated_text)\n",
    "        finish = time.time()\n",
    "\n",
    "        if test_tps_speed:\n",
    "            num_tokens_generated = sum(len(self.tokenizer.encode(text)) for text in generated_text)\n",
    "            time_taken = finish - start\n",
    "            tokens_per_second = num_tokens_generated / time_taken\n",
    "            print(f\"Tokens per second (TPS): \", tokens_per_second)\n",
    "    \n",
    "        print(\"VRAM Usage (inference)\", GPUtil.getGPUs()[0].memoryUsed / 1024, \"GB\")\n",
    "        # print(self.gpu_memory_usage[-1])\n",
    "    \n",
    "        return generated_text\n",
    "\n",
    "\n",
    "\n",
    "    def get_vram_usage(self):\n",
    "        return self.gpu_memory_usage\n"
   ]
  },
  {
   "cell_type": "code",
   "execution_count": 4,
   "id": "4f2ff1f9-4c79-4550-98d2-e75b1c479ece",
   "metadata": {},
   "outputs": [],
   "source": [
    "try:\n",
    "    data_df = pd.read_csv(\"/work/acslab/users/manning/vram.csv\")\n",
    "except:\n",
    "    path = \"/work/acslab/users/manning/\"\n",
    "    file = \"vram.csv\"\n",
    "    file_path = os.path.join(path, file)\n",
    "    with open(file_path, mode=\"w\", newline=\"\") as csv_file:\n",
    "        columns = [\"Model\",\"Quantization\", \"Prompt\", \"Response\", \"VRAM Usage with Model (GB)\", \"VRAM Usage with model & tokens (GB)\", \"VRAM Usage Inference (GB)\"]\n",
    "        writer = csv.DictWriter(csv_file, fieldnames=columns)\n",
    "        writer.writeheader()\n",
    "\n",
    "data_df = pd.read_csv(\"/work/acslab/users/manning/vram.csv\")\n",
    "\n",
    "    \n",
    "model_paths = [\"meta-llama/Llama-2-7b-hf\", \"meta-llama/Llama-2-13b-hf\", \"meta-llama/Llama-2-70b-hf\", \"tiiuae/falcon-7b\", \"tiiuae/falcon-40b\", \"jondurbin/airoboros-l2-70b-2.1\"]\n",
    "\n",
    "model_path = model_paths[0]"
   ]
  },
  {
   "cell_type": "code",
   "execution_count": 5,
   "id": "60550494",
   "metadata": {},
   "outputs": [
    {
     "data": {
      "application/vnd.jupyter.widget-view+json": {
       "model_id": "384f44f1dae94cf0a86f18587560e7f3",
       "version_major": 2,
       "version_minor": 0
      },
      "text/plain": [
       "Loading checkpoint shards:   0%|          | 0/2 [00:00<?, ?it/s]"
      ]
     },
     "metadata": {},
     "output_type": "display_data"
    },
    {
     "name": "stdout",
     "output_type": "stream",
     "text": [
      "VRAM Usage (just model loaded): [8.3017578125] GB\n",
      "Conversation History: Once upon a time, there was a brave knight who\n"
     ]
    },
    {
     "name": "stderr",
     "output_type": "stream",
     "text": [
      "/work/acslab/users/manning/LLM/lib/python3.10/site-packages/bitsandbytes/autograd/_functions.py:322: UserWarning: MatMul8bitLt: inputs will be cast from torch.float32 to float16 during quantization\n",
      "  warnings.warn(f\"MatMul8bitLt: inputs will be cast from {A.dtype} to float16 during quantization\")\n"
     ]
    },
    {
     "name": "stdout",
     "output_type": "stream",
     "text": [
      "Generated Response: ['Once upon a time, there was a brave knight who lived in a castle.\\nThe knight\\'s name was Sir Robert.\\nSir Robert was a very brave knight. He always helped people in trouble.\\nOne day, Sir Robert was walking along a path when he met a poor old man. The old man was very tired and had lost his way.\\nSir Robert asked the old man, \"Where are you going, my good man?\"\\n\"I am going to my daughter\\'s wedding,\" the old man answered.\\n\"That is a long way,\" said Sir Robert. \"']\n",
      "Tokens per second (TPS):  7.154726934027538\n",
      "VRAM Usage (inference) 8.8544921875 GB\n"
     ]
    }
   ],
   "source": [
    "## prompts for causal LLM to test max context window\n",
    "prompts = [\n",
    "    \"Once upon a time, there was a brave knight who\",\n",
    "    \"In a galaxy far, far away, the Jedi Order faced a\",\n",
    "    \"In the year 2050, advanced AI technology had revolutionized\",\n",
    "    \"Deep in the heart of the Amazon rainforest, a team of explorers discovered\",\n",
    "    \"On the eve of World War III, a group of scientists developed a\",\n",
    "]\n",
    "\n",
    "Llama_2_7B = TextGenerator(model_path, max_length=4096, eight_bit=True)\n",
    "generated_text = Llama_2_7B.generate_text(prompts[0], max_length=128, test_tps_speed=True)\n",
    "\n",
    "\n",
    "# try:\n",
    "#     #8bit precision\n",
    "#     model = LlamaForCausalLM.from_pretrained(model_path,cache_dir=f\"/work/acslab/shared/models/\", device_map=\"auto\", load_in_8bit=True)\n",
    "#     tokenizer = AutoTokenizer.from_pretrained(model_path)\n",
    "\n",
    "#     gpu_info = GPUtil.getGPUs()[0]\n",
    "#     initial_vram_usage = gpu_info.memoryUsed / 1024\n",
    "\n",
    "#     prompt = \"Where was the first President of the United States born?\"\n",
    "#     input_ids = tokenizer.encode(prompt, return_tensors=\"pt\").to(device)\n",
    "\n",
    "#     gpu_info = GPUtil.getGPUs()[0]\n",
    "#     vram_with_tokens = gpu_info.memoryUsed / 1024\n",
    "\n",
    "#     output = model.generate(input_ids, max_length=128, num_return_sequences=1, pad_token_id=tokenizer.eos_token_id, eos_token_id=tokenizer.eos_token_id)\n",
    "\n",
    "#     gpu_info = GPUtil.getGPUs()[0]\n",
    "#     vram_during_inference = gpu_info.memoryUsed / 1024\n",
    "\n",
    "#     generated_text = tokenizer.decode(output[0], skip_special_tokens=True)\n",
    "\n",
    "#     new_data = pd.DataFrame({\"Model\": [model_path],\"Quantization\": [\"8bit\"], \"Prompt\": [prompt], \"Response\": [generated_text], \"VRAM Usage with Model (GB)\": [initial_vram_usage], \"VRAM Usage with model & tokens (GB)\": [vram_with_tokens], \"VRAM Usage Inference (GB)\": [vram_during_inference]})\n",
    "#     data_df = pd.concat([data_df, new_data], ignore_index=True)\n",
    "        \n",
    "#     torch.cuda.empty_cache()\n",
    "\n",
    "# except Exception as e:\n",
    "#     print(f\"Error loading {model_path}: {e}\")\n",
    "    \n",
    "data_df.to_csv(\"/work/acslab/users/manning/vram.csv\", index=False)\n"
   ]
  },
  {
   "cell_type": "code",
   "execution_count": 6,
   "id": "22759d15-d7be-45ea-bd23-142faf5ced2a",
   "metadata": {},
   "outputs": [
    {
     "name": "stdout",
     "output_type": "stream",
     "text": [
      "Conversation History: Once upon a time, there was a brave knight who In a galaxy far, far away, the Jedi Order faced a\n"
     ]
    },
    {
     "name": "stderr",
     "output_type": "stream",
     "text": [
      "/work/acslab/users/manning/LLM/lib/python3.10/site-packages/bitsandbytes/autograd/_functions.py:322: UserWarning: MatMul8bitLt: inputs will be cast from torch.float32 to float16 during quantization\n",
      "  warnings.warn(f\"MatMul8bitLt: inputs will be cast from {A.dtype} to float16 during quantization\")\n"
     ]
    },
    {
     "name": "stdout",
     "output_type": "stream",
     "text": [
      "Generated Response: ['Once upon a time, there was a brave knight who In a galaxy far, far away, the Jedi Order faced a terrible threat from the dark side. on the dark side. The Dark Side is a book about the history of the dark side of the Force in the Star Wars galaxy, and is the third book in the Star Wars Legends Epic Collection.\\nThe Dark Side is a book about the history of the dark side of the Force in the Star Wars galaxy, and is the third book in the Star Wars Legends Epic Collection. The Dark Side is a book about the history of']\n",
      "Tokens per second (TPS):  8.409454176092263\n",
      "VRAM Usage (inference) 8.8544921875 GB\n"
     ]
    }
   ],
   "source": [
    "response = Llama_2_7B.generate_text(prompts[1], max_length=128, test_tps_speed=True)"
   ]
  },
  {
   "cell_type": "code",
   "execution_count": 7,
   "id": "e9def4c7",
   "metadata": {},
   "outputs": [
    {
     "name": "stdout",
     "output_type": "stream",
     "text": [
      "Conversation History: Once upon a time, there was a brave knight who In a galaxy far, far away, the Jedi Order faced a In the year 2050, advanced AI technology had revolutionized\n"
     ]
    },
    {
     "name": "stderr",
     "output_type": "stream",
     "text": [
      "/work/acslab/users/manning/LLM/lib/python3.10/site-packages/bitsandbytes/autograd/_functions.py:322: UserWarning: MatMul8bitLt: inputs will be cast from torch.float32 to float16 during quantization\n",
      "  warnings.warn(f\"MatMul8bitLt: inputs will be cast from {A.dtype} to float16 during quantization\")\n"
     ]
    },
    {
     "name": "stdout",
     "output_type": "stream",
     "text": [
      "Generated Response: ['Once upon a time, there was a brave knight who In a galaxy far, far away, the Jedi Order faced a In the year 2050, advanced AI technology had revolutionized the way we lived. 18 Jun 2019 This is a list of the best Star Wars games. Star Wars games have been around for a long time, and many of them are good. The best Star Wars games have 27 Nov 2019 Star Wars: Episode I - Racer is a video game for the PlayStation and Nintendo 64']\n",
      "Tokens per second (TPS):  10.332401131202174\n",
      "VRAM Usage (inference) 8.8583984375 GB\n"
     ]
    }
   ],
   "source": [
    "response = Llama_2_7B.generate_text(prompts[2], max_length=128, test_tps_speed=True)"
   ]
  },
  {
   "cell_type": "code",
   "execution_count": 8,
   "id": "bae8862c-6b0b-47d9-a503-2d58ba576087",
   "metadata": {},
   "outputs": [
    {
     "name": "stdout",
     "output_type": "stream",
     "text": [
      "Conversation History: Once upon a time, there was a brave knight who In a galaxy far, far away, the Jedi Order faced a In the year 2050, advanced AI technology had revolutionized Deep in the heart of the Amazon rainforest, a team of explorers discovered\n"
     ]
    },
    {
     "name": "stderr",
     "output_type": "stream",
     "text": [
      "/work/acslab/users/manning/LLM/lib/python3.10/site-packages/bitsandbytes/autograd/_functions.py:322: UserWarning: MatMul8bitLt: inputs will be cast from torch.float32 to float16 during quantization\n",
      "  warnings.warn(f\"MatMul8bitLt: inputs will be cast from {A.dtype} to float16 during quantization\")\n"
     ]
    },
    {
     "name": "stdout",
     "output_type": "stream",
     "text": [
      "Generated Response: ['Once upon a time, there was a brave knight who In a galaxy far, far away, the Jedi Order faced a In the year 2050, advanced AI technology had revolutionized Deep in the heart of the Amazon rainforest, a team of explorers discovered a In the year 2050, a group of scientists discovered a new species of\\nThe first time I heard the term \"deepfake,\" I thought it was a typo. I had no idea what it meant. I had never heard of it before. But it sounded like something that']\n",
      "Tokens per second (TPS):  13.475997627059744\n",
      "VRAM Usage (inference) 8.8583984375 GB\n"
     ]
    }
   ],
   "source": [
    "response = Llama_2_7B.generate_text(prompts[3], max_length=128, test_tps_speed=True)"
   ]
  },
  {
   "cell_type": "code",
   "execution_count": 10,
   "id": "cfd6d888-50f6-4cdf-bb55-125914540d8a",
   "metadata": {},
   "outputs": [
    {
     "name": "stdout",
     "output_type": "stream",
     "text": [
      "Conversation History: Once upon a time, there was a brave knight who In a galaxy far, far away, the Jedi Order faced a In the year 2050, advanced AI technology had revolutionized Deep in the heart of the Amazon rainforest, a team of explorers discovered On the eve of World War III, a group of scientists developed a On the eve of World War III, a group of scientists developed a\n",
      "Generated Response: ['Once upon a time, there was a brave knight who In a galaxy far, far away, the Jedi Order faced a In the year 2050, advanced AI technology had revolutionized Deep in the heart of the Amazon rainforest, a team of explorers discovered On the eve of World War III, a group of scientists developed a On the eve of World War III, a group of scientists developed a On the eve of World War III, a group of scientists developed a On the eve of World War III, a group of scient']\n",
      "Tokens per second (TPS):  28.145015028604675\n",
      "VRAM Usage (inference) 9.0732421875 GB\n"
     ]
    }
   ],
   "source": [
    "response = Llama_2_7B.generate_text(prompts[4], max_length=128, test_tps_speed=True)"
   ]
  },
  {
   "cell_type": "code",
   "execution_count": 11,
   "id": "caf67cea-a17c-40af-808c-b6ca438537c9",
   "metadata": {},
   "outputs": [],
   "source": [
    "### finetuning\n",
    "from datasets import load_dataset\n",
    "\n",
    "eli5 = load_dataset(\"eli5\", split=\"train_asks[:5000]\")\n",
    "\n",
    "eli5 = eli5.train_test_split(test_size=0.2)\n",
    "\n"
   ]
  },
  {
   "cell_type": "code",
   "execution_count": 12,
   "id": "8476dc31-b397-4598-bf0e-36fb001fa4eb",
   "metadata": {},
   "outputs": [],
   "source": [
    "eli5 = eli5.flatten()\n"
   ]
  },
  {
   "cell_type": "code",
   "execution_count": 13,
   "id": "74fdd71e-20fb-49ae-b2e7-88485573c4f0",
   "metadata": {},
   "outputs": [
    {
     "data": {
      "application/vnd.jupyter.widget-view+json": {
       "model_id": "651336434f184d9a868406e00a2e2b88",
       "version_major": 2,
       "version_minor": 0
      },
      "text/plain": [
       "Map (num_proc=4):   0%|          | 0/4000 [00:00<?, ? examples/s]"
      ]
     },
     "metadata": {},
     "output_type": "display_data"
    },
    {
     "data": {
      "application/vnd.jupyter.widget-view+json": {
       "model_id": "cb8423efcf2e4987b881fca9a05a108a",
       "version_major": 2,
       "version_minor": 0
      },
      "text/plain": [
       "Map (num_proc=4):   0%|          | 0/1000 [00:00<?, ? examples/s]"
      ]
     },
     "metadata": {},
     "output_type": "display_data"
    }
   ],
   "source": [
    "def preprocess_function(examples):\n",
    "    return Llama_2_7B.tokenizer([\" \".join(x) for x in examples[\"answers.text\"]])\n",
    "\n",
    "tokenized_eli5 = eli5.map(preprocess_function, batched=True, num_proc=4, remove_columns=eli5[\"train\"].column_names)\n"
   ]
  },
  {
   "cell_type": "code",
   "execution_count": 14,
   "id": "21fa6e4c-5e18-445e-af9c-273d56cec673",
   "metadata": {},
   "outputs": [
    {
     "data": {
      "application/vnd.jupyter.widget-view+json": {
       "model_id": "4750675568454adc8442799c98f9890a",
       "version_major": 2,
       "version_minor": 0
      },
      "text/plain": [
       "Map (num_proc=4):   0%|          | 0/4000 [00:00<?, ? examples/s]"
      ]
     },
     "metadata": {},
     "output_type": "display_data"
    },
    {
     "data": {
      "application/vnd.jupyter.widget-view+json": {
       "model_id": "8c35382c5dc74d8cafdf547efcf73da4",
       "version_major": 2,
       "version_minor": 0
      },
      "text/plain": [
       "Map (num_proc=4):   0%|          | 0/1000 [00:00<?, ? examples/s]"
      ]
     },
     "metadata": {},
     "output_type": "display_data"
    }
   ],
   "source": [
    "block_size = 128 \n",
    "\n",
    "def group_texts(examples):\n",
    "    concatenated_examples = {k: sum(examples[k], []) for k in examples.keys()}\n",
    "    total_length = len(concatenated_examples[list(examples.keys())[0]])\n",
    "\n",
    "    if total_length >= block_size:\n",
    "        total_length = (total_length // block_size) * block_size\n",
    "\n",
    "    result = {k: [t[i: i + block_size] for i in range(0, total_length, block_size)] for k, t in concatenated_examples.items()}\n",
    "    result[\"labels\"] = result[\"input_ids\"].copy()\n",
    "    return result\n",
    "\n",
    "lm_dataset = tokenized_eli5.map(group_texts, batched=True, num_proc=4)"
   ]
  },
  {
   "cell_type": "code",
   "execution_count": 15,
   "id": "15889858-914f-4b6d-ab23-13a854875705",
   "metadata": {},
   "outputs": [],
   "source": [
    "from transformers import DataCollatorForLanguageModeling\n",
    "\n",
    "Llama_2_7B.tokenizer.pad_token = Llama_2_7B.tokenizer.eos_token\n",
    "data_collator = DataCollatorForLanguageModeling(tokenizer=Llama_2_7B.tokenizer, mlm=False)"
   ]
  },
  {
   "cell_type": "code",
   "execution_count": 16,
   "id": "fd731622-2abe-4524-a817-8cbb43388b41",
   "metadata": {},
   "outputs": [
    {
     "name": "stderr",
     "output_type": "stream",
     "text": [
      "[codecarbon INFO @ 00:26:03] [setup] RAM Tracking...\n",
      "[codecarbon INFO @ 00:26:03] [setup] GPU Tracking...\n",
      "[codecarbon INFO @ 00:26:03] Tracking Nvidia GPU via pynvml\n",
      "[codecarbon INFO @ 00:26:03] [setup] CPU Tracking...\n",
      "[codecarbon WARNING @ 00:26:03] No CPU tracking mode found. Falling back on CPU constant mode.\n",
      "[codecarbon INFO @ 00:26:03] CPU Model on constant consumption mode: AMD EPYC 7352 24-Core Processor\n",
      "[codecarbon INFO @ 00:26:03] >>> Tracker's metadata:\n",
      "[codecarbon INFO @ 00:26:03]   Platform system: Linux-3.10.0-957.27.2.el7.x86_64-x86_64-with-glibc2.17\n",
      "[codecarbon INFO @ 00:26:03]   Python version: 3.10.13\n",
      "[codecarbon INFO @ 00:26:03]   CodeCarbon version: 2.2.3\n",
      "[codecarbon INFO @ 00:26:03]   Available RAM : 128.000 GB\n",
      "[codecarbon INFO @ 00:26:03]   CPU count: 1\n",
      "[codecarbon INFO @ 00:26:03]   CPU model: AMD EPYC 7352 24-Core Processor\n",
      "[codecarbon INFO @ 00:26:03]   GPU count: 1\n",
      "[codecarbon INFO @ 00:26:03]   GPU model: 1 x NVIDIA A100 80GB PCIe\n"
     ]
    }
   ],
   "source": [
    "from transformers import AutoModelForCausalLM, TrainingArguments, Trainer\n",
    "\n",
    "training_args = TrainingArguments(output_dir = \"/work/acslab/shared/models/finetuned--Llama-2-7b-hf\",\n",
    "                                  evaluation_strategy=\"epoch\",\n",
    "                                  num_train_epochs=1,\n",
    "                                  learning_rate=2e-5,\n",
    "                                  weight_decay=0.01,\n",
    "                                  push_to_hub=False)\n",
    "\n",
    "trainer = Trainer(model=Llama_2_7B.model,\n",
    "                  args=training_args,\n",
    "                  train_dataset=lm_dataset[\"train\"],\n",
    "                  eval_dataset=lm_dataset[\"test\"],\n",
    "                  data_collator=data_collator)"
   ]
  },
  {
   "cell_type": "code",
   "execution_count": null,
   "id": "53b569eb-d23a-4133-84f7-da9d95fc7911",
   "metadata": {},
   "outputs": [
    {
     "name": "stderr",
     "output_type": "stream",
     "text": [
      "You're using a LlamaTokenizerFast tokenizer. Please note that with a fast tokenizer, using the `__call__` method is faster than using a method to encode the text followed by a call to the `pad` method to get a padded encoding.\n",
      "/work/acslab/users/manning/LLM/lib/python3.10/site-packages/bitsandbytes/autograd/_functions.py:322: UserWarning: MatMul8bitLt: inputs will be cast from torch.float32 to float16 during quantization\n",
      "  warnings.warn(f\"MatMul8bitLt: inputs will be cast from {A.dtype} to float16 during quantization\")\n"
     ]
    },
    {
     "data": {
      "text/html": [
       "\n",
       "    <div>\n",
       "      \n",
       "      <progress value='703' max='1254' style='width:300px; height:20px; vertical-align: middle;'></progress>\n",
       "      [ 703/1254 16:42 < 13:07, 0.70 it/s, Epoch 0.56/1]\n",
       "    </div>\n",
       "    <table border=\"1\" class=\"dataframe\">\n",
       "  <thead>\n",
       " <tr style=\"text-align: left;\">\n",
       "      <th>Epoch</th>\n",
       "      <th>Training Loss</th>\n",
       "      <th>Validation Loss</th>\n",
       "    </tr>\n",
       "  </thead>\n",
       "  <tbody>\n",
       "  </tbody>\n",
       "</table><p>"
      ],
      "text/plain": [
       "<IPython.core.display.HTML object>"
      ]
     },
     "metadata": {},
     "output_type": "display_data"
    },
    {
     "name": "stderr",
     "output_type": "stream",
     "text": [
      "[codecarbon INFO @ 00:26:23] Energy consumed for RAM : 0.000200 kWh. RAM Power : 48.0 W\n",
      "[codecarbon INFO @ 00:26:23] Energy consumed for all GPUs : 0.001242 kWh. Total GPU Power : 295.789 W\n",
      "[codecarbon INFO @ 00:26:23] Energy consumed for all CPUs : 0.000326 kWh. Total CPU Power : 77.5 W\n",
      "[codecarbon INFO @ 00:26:23] 0.001767 kWh of electricity used since the beginning.\n",
      "[codecarbon INFO @ 00:26:38] Energy consumed for RAM : 0.000399 kWh. RAM Power : 48.0 W\n",
      "[codecarbon INFO @ 00:26:38] Energy consumed for all GPUs : 0.002420 kWh. Total GPU Power : 282.991 W\n",
      "[codecarbon INFO @ 00:26:38] Energy consumed for all CPUs : 0.000649 kWh. Total CPU Power : 77.5 W\n",
      "[codecarbon INFO @ 00:26:38] 0.003468 kWh of electricity used since the beginning.\n",
      "[codecarbon INFO @ 00:26:53] Energy consumed for RAM : 0.000598 kWh. RAM Power : 48.0 W\n",
      "[codecarbon INFO @ 00:26:53] Energy consumed for all GPUs : 0.003639 kWh. Total GPU Power : 292.262 W\n",
      "[codecarbon INFO @ 00:26:53] Energy consumed for all CPUs : 0.000972 kWh. Total CPU Power : 77.5 W\n",
      "[codecarbon INFO @ 00:26:53] 0.005208 kWh of electricity used since the beginning.\n",
      "[codecarbon INFO @ 00:27:08] Energy consumed for RAM : 0.000796 kWh. RAM Power : 48.0 W\n",
      "[codecarbon INFO @ 00:27:08] Energy consumed for all GPUs : 0.004892 kWh. Total GPU Power : 301.12600000000003 W\n",
      "[codecarbon INFO @ 00:27:08] Energy consumed for all CPUs : 0.001295 kWh. Total CPU Power : 77.5 W\n",
      "[codecarbon INFO @ 00:27:08] 0.006983 kWh of electricity used since the beginning.\n",
      "[codecarbon INFO @ 00:27:23] Energy consumed for RAM : 0.000995 kWh. RAM Power : 48.0 W\n",
      "[codecarbon INFO @ 00:27:23] Energy consumed for all GPUs : 0.005455 kWh. Total GPU Power : 134.911 W\n",
      "[codecarbon INFO @ 00:27:23] Energy consumed for all CPUs : 0.001619 kWh. Total CPU Power : 77.5 W\n",
      "[codecarbon INFO @ 00:27:23] 0.008069 kWh of electricity used since the beginning.\n",
      "[codecarbon INFO @ 00:27:38] Energy consumed for RAM : 0.001193 kWh. RAM Power : 48.0 W\n",
      "[codecarbon INFO @ 00:27:38] Energy consumed for all GPUs : 0.006696 kWh. Total GPU Power : 298.603 W\n",
      "[codecarbon INFO @ 00:27:38] Energy consumed for all CPUs : 0.001941 kWh. Total CPU Power : 77.5 W\n",
      "[codecarbon INFO @ 00:27:38] 0.009831 kWh of electricity used since the beginning.\n",
      "[codecarbon INFO @ 00:27:53] Energy consumed for RAM : 0.001392 kWh. RAM Power : 48.0 W\n",
      "[codecarbon INFO @ 00:27:53] Energy consumed for all GPUs : 0.007338 kWh. Total GPU Power : 153.684 W\n",
      "[codecarbon INFO @ 00:27:53] Energy consumed for all CPUs : 0.002265 kWh. Total CPU Power : 77.5 W\n",
      "[codecarbon INFO @ 00:27:53] 0.010994 kWh of electricity used since the beginning.\n",
      "[codecarbon INFO @ 00:28:08] Energy consumed for RAM : 0.001591 kWh. RAM Power : 48.0 W\n",
      "[codecarbon INFO @ 00:28:08] Energy consumed for all GPUs : 0.008616 kWh. Total GPU Power : 307.259 W\n",
      "[codecarbon INFO @ 00:28:08] Energy consumed for all CPUs : 0.002587 kWh. Total CPU Power : 77.5 W\n",
      "[codecarbon INFO @ 00:28:08] 0.012793 kWh of electricity used since the beginning.\n",
      "[codecarbon INFO @ 00:28:23] Energy consumed for RAM : 0.001789 kWh. RAM Power : 48.0 W\n",
      "[codecarbon INFO @ 00:28:23] Energy consumed for all GPUs : 0.009361 kWh. Total GPU Power : 178.458 W\n",
      "[codecarbon INFO @ 00:28:23] Energy consumed for all CPUs : 0.002911 kWh. Total CPU Power : 77.5 W\n",
      "[codecarbon INFO @ 00:28:23] 0.014061 kWh of electricity used since the beginning.\n",
      "[codecarbon INFO @ 00:28:39] Energy consumed for RAM : 0.001988 kWh. RAM Power : 48.0 W\n",
      "[codecarbon INFO @ 00:28:39] Energy consumed for all GPUs : 0.010628 kWh. Total GPU Power : 299.677 W\n",
      "[codecarbon INFO @ 00:28:39] Energy consumed for all CPUs : 0.003239 kWh. Total CPU Power : 77.5 W\n",
      "[codecarbon INFO @ 00:28:39] 0.015855 kWh of electricity used since the beginning.\n",
      "[codecarbon INFO @ 00:28:53] Energy consumed for RAM : 0.002183 kWh. RAM Power : 48.0 W\n",
      "[codecarbon INFO @ 00:28:53] Energy consumed for all GPUs : 0.011171 kWh. Total GPU Power : 132.37 W\n",
      "[codecarbon INFO @ 00:28:53] Energy consumed for all CPUs : 0.003557 kWh. Total CPU Power : 77.5 W\n",
      "[codecarbon INFO @ 00:28:53] 0.016911 kWh of electricity used since the beginning.\n",
      "[codecarbon INFO @ 00:29:08] Energy consumed for RAM : 0.002381 kWh. RAM Power : 48.0 W\n",
      "[codecarbon INFO @ 00:29:08] Energy consumed for all GPUs : 0.012381 kWh. Total GPU Power : 291.139 W\n",
      "[codecarbon INFO @ 00:29:08] Energy consumed for all CPUs : 0.003880 kWh. Total CPU Power : 77.5 W\n",
      "[codecarbon INFO @ 00:29:08] 0.018642 kWh of electricity used since the beginning.\n",
      "[codecarbon INFO @ 00:29:23] Energy consumed for RAM : 0.002580 kWh. RAM Power : 48.0 W\n",
      "[codecarbon INFO @ 00:29:23] Energy consumed for all GPUs : 0.013558 kWh. Total GPU Power : 282.596 W\n",
      "[codecarbon INFO @ 00:29:23] Energy consumed for all CPUs : 0.004203 kWh. Total CPU Power : 77.5 W\n",
      "[codecarbon INFO @ 00:29:23] 0.020340 kWh of electricity used since the beginning.\n",
      "[codecarbon INFO @ 00:29:38] Energy consumed for RAM : 0.002779 kWh. RAM Power : 48.0 W\n",
      "[codecarbon INFO @ 00:29:38] Energy consumed for all GPUs : 0.014785 kWh. Total GPU Power : 294.704 W\n",
      "[codecarbon INFO @ 00:29:38] Energy consumed for all CPUs : 0.004526 kWh. Total CPU Power : 77.5 W\n",
      "[codecarbon INFO @ 00:29:38] 0.022090 kWh of electricity used since the beginning.\n",
      "[codecarbon INFO @ 00:29:53] Energy consumed for RAM : 0.002977 kWh. RAM Power : 48.0 W\n",
      "[codecarbon INFO @ 00:29:53] Energy consumed for all GPUs : 0.015966 kWh. Total GPU Power : 283.403 W\n",
      "[codecarbon INFO @ 00:29:53] Energy consumed for all CPUs : 0.004849 kWh. Total CPU Power : 77.5 W\n",
      "[codecarbon INFO @ 00:29:53] 0.023792 kWh of electricity used since the beginning.\n",
      "[codecarbon INFO @ 00:30:08] Energy consumed for RAM : 0.003176 kWh. RAM Power : 48.0 W\n",
      "[codecarbon INFO @ 00:30:08] Energy consumed for all GPUs : 0.017185 kWh. Total GPU Power : 292.401 W\n",
      "[codecarbon INFO @ 00:30:08] Energy consumed for all CPUs : 0.005172 kWh. Total CPU Power : 77.5 W\n",
      "[codecarbon INFO @ 00:30:08] 0.025533 kWh of electricity used since the beginning.\n",
      "[codecarbon INFO @ 00:30:23] Energy consumed for RAM : 0.003374 kWh. RAM Power : 48.0 W\n",
      "[codecarbon INFO @ 00:30:23] Energy consumed for all GPUs : 0.018384 kWh. Total GPU Power : 288.587 W\n",
      "[codecarbon INFO @ 00:30:23] Energy consumed for all CPUs : 0.005495 kWh. Total CPU Power : 77.5 W\n",
      "[codecarbon INFO @ 00:30:23] 0.027253 kWh of electricity used since the beginning.\n",
      "[codecarbon INFO @ 00:30:38] Energy consumed for RAM : 0.003573 kWh. RAM Power : 48.0 W\n",
      "[codecarbon INFO @ 00:30:38] Energy consumed for all GPUs : 0.019588 kWh. Total GPU Power : 288.351 W\n",
      "[codecarbon INFO @ 00:30:38] Energy consumed for all CPUs : 0.005818 kWh. Total CPU Power : 77.5 W\n",
      "[codecarbon INFO @ 00:30:38] 0.028979 kWh of electricity used since the beginning.\n",
      "[codecarbon INFO @ 00:30:53] Energy consumed for RAM : 0.003771 kWh. RAM Power : 48.0 W\n",
      "[codecarbon INFO @ 00:30:53] Energy consumed for all GPUs : 0.020833 kWh. Total GPU Power : 299.603 W\n",
      "[codecarbon INFO @ 00:30:53] Energy consumed for all CPUs : 0.006141 kWh. Total CPU Power : 77.5 W\n",
      "[codecarbon INFO @ 00:30:53] 0.030745 kWh of electricity used since the beginning.\n",
      "[codecarbon INFO @ 00:31:08] Energy consumed for RAM : 0.003970 kWh. RAM Power : 48.0 W\n",
      "[codecarbon INFO @ 00:31:08] Energy consumed for all GPUs : 0.021504 kWh. Total GPU Power : 160.571 W\n",
      "[codecarbon INFO @ 00:31:08] Energy consumed for all CPUs : 0.006465 kWh. Total CPU Power : 77.5 W\n",
      "[codecarbon INFO @ 00:31:08] 0.031939 kWh of electricity used since the beginning.\n",
      "[codecarbon INFO @ 00:31:23] Energy consumed for RAM : 0.004168 kWh. RAM Power : 48.0 W\n",
      "[codecarbon INFO @ 00:31:23] Energy consumed for all GPUs : 0.022753 kWh. Total GPU Power : 300.733 W\n",
      "[codecarbon INFO @ 00:31:23] Energy consumed for all CPUs : 0.006787 kWh. Total CPU Power : 77.5 W\n",
      "[codecarbon INFO @ 00:31:23] 0.033708 kWh of electricity used since the beginning.\n",
      "[codecarbon INFO @ 00:31:38] Energy consumed for RAM : 0.004367 kWh. RAM Power : 48.0 W\n",
      "[codecarbon INFO @ 00:31:38] Energy consumed for all GPUs : 0.023567 kWh. Total GPU Power : 195.019 W\n",
      "[codecarbon INFO @ 00:31:38] Energy consumed for all CPUs : 0.007111 kWh. Total CPU Power : 77.5 W\n",
      "[codecarbon INFO @ 00:31:38] 0.035044 kWh of electricity used since the beginning.\n",
      "[codecarbon INFO @ 00:31:53] Energy consumed for RAM : 0.004565 kWh. RAM Power : 48.0 W\n",
      "[codecarbon INFO @ 00:31:53] Energy consumed for all GPUs : 0.024778 kWh. Total GPU Power : 291.473 W\n",
      "[codecarbon INFO @ 00:31:53] Energy consumed for all CPUs : 0.007433 kWh. Total CPU Power : 77.5 W\n",
      "[codecarbon INFO @ 00:31:53] 0.036776 kWh of electricity used since the beginning.\n",
      "[codecarbon INFO @ 00:32:08] Energy consumed for RAM : 0.004764 kWh. RAM Power : 48.0 W\n",
      "[codecarbon INFO @ 00:32:08] Energy consumed for all GPUs : 0.025488 kWh. Total GPU Power : 170.25300000000001 W\n",
      "[codecarbon INFO @ 00:32:08] Energy consumed for all CPUs : 0.007757 kWh. Total CPU Power : 77.5 W\n",
      "[codecarbon INFO @ 00:32:08] 0.038009 kWh of electricity used since the beginning.\n",
      "[codecarbon INFO @ 00:32:23] Energy consumed for RAM : 0.004962 kWh. RAM Power : 48.0 W\n",
      "[codecarbon INFO @ 00:32:23] Energy consumed for all GPUs : 0.026683 kWh. Total GPU Power : 287.3790000000001 W\n",
      "[codecarbon INFO @ 00:32:23] Energy consumed for all CPUs : 0.008079 kWh. Total CPU Power : 77.5 W\n",
      "[codecarbon INFO @ 00:32:23] 0.039725 kWh of electricity used since the beginning.\n",
      "[codecarbon INFO @ 00:32:38] Energy consumed for RAM : 0.005161 kWh. RAM Power : 48.0 W\n",
      "[codecarbon INFO @ 00:32:39] Energy consumed for all GPUs : 0.027423 kWh. Total GPU Power : 177.208 W\n",
      "[codecarbon INFO @ 00:32:39] Energy consumed for all CPUs : 0.008403 kWh. Total CPU Power : 77.5 W\n",
      "[codecarbon INFO @ 00:32:39] 0.040986 kWh of electricity used since the beginning.\n",
      "[codecarbon INFO @ 00:32:53] Energy consumed for RAM : 0.005359 kWh. RAM Power : 48.0 W\n",
      "[codecarbon INFO @ 00:32:53] Energy consumed for all GPUs : 0.028622 kWh. Total GPU Power : 288.446 W\n",
      "[codecarbon INFO @ 00:32:53] Energy consumed for all CPUs : 0.008725 kWh. Total CPU Power : 77.5 W\n",
      "[codecarbon INFO @ 00:32:53] 0.042707 kWh of electricity used since the beginning.\n",
      "[codecarbon INFO @ 00:33:08] Energy consumed for RAM : 0.005558 kWh. RAM Power : 48.0 W\n",
      "[codecarbon INFO @ 00:33:09] Energy consumed for all GPUs : 0.029287 kWh. Total GPU Power : 159.316 W\n",
      "[codecarbon INFO @ 00:33:09] Energy consumed for all CPUs : 0.009049 kWh. Total CPU Power : 77.5 W\n",
      "[codecarbon INFO @ 00:33:09] 0.043894 kWh of electricity used since the beginning.\n",
      "[codecarbon INFO @ 00:33:23] Energy consumed for RAM : 0.005757 kWh. RAM Power : 48.0 W\n",
      "[codecarbon INFO @ 00:33:24] Energy consumed for all GPUs : 0.030573 kWh. Total GPU Power : 309.137 W\n",
      "[codecarbon INFO @ 00:33:24] Energy consumed for all CPUs : 0.009372 kWh. Total CPU Power : 77.5 W\n",
      "[codecarbon INFO @ 00:33:24] 0.045701 kWh of electricity used since the beginning.\n",
      "[codecarbon INFO @ 00:33:38] Energy consumed for RAM : 0.005955 kWh. RAM Power : 48.0 W\n",
      "[codecarbon INFO @ 00:33:39] Energy consumed for all GPUs : 0.031301 kWh. Total GPU Power : 174.423 W\n",
      "[codecarbon INFO @ 00:33:39] Energy consumed for all CPUs : 0.009695 kWh. Total CPU Power : 77.5 W\n",
      "[codecarbon INFO @ 00:33:39] 0.046952 kWh of electricity used since the beginning.\n",
      "[codecarbon INFO @ 00:33:53] Energy consumed for RAM : 0.006154 kWh. RAM Power : 48.0 W\n",
      "[codecarbon INFO @ 00:33:54] Energy consumed for all GPUs : 0.032496 kWh. Total GPU Power : 287.269 W\n",
      "[codecarbon INFO @ 00:33:54] Energy consumed for all CPUs : 0.010018 kWh. Total CPU Power : 77.5 W\n",
      "[codecarbon INFO @ 00:33:54] 0.048667 kWh of electricity used since the beginning.\n",
      "[codecarbon INFO @ 00:34:09] Energy consumed for RAM : 0.006353 kWh. RAM Power : 48.0 W\n",
      "[codecarbon INFO @ 00:34:09] Energy consumed for all GPUs : 0.033208 kWh. Total GPU Power : 170.549 W\n",
      "[codecarbon INFO @ 00:34:09] Energy consumed for all CPUs : 0.010342 kWh. Total CPU Power : 77.5 W\n",
      "[codecarbon INFO @ 00:34:09] 0.049902 kWh of electricity used since the beginning.\n",
      "[codecarbon INFO @ 00:34:23] Energy consumed for RAM : 0.006551 kWh. RAM Power : 48.0 W\n",
      "[codecarbon INFO @ 00:34:24] Energy consumed for all GPUs : 0.034406 kWh. Total GPU Power : 288.351 W\n",
      "[codecarbon INFO @ 00:34:24] Energy consumed for all CPUs : 0.010664 kWh. Total CPU Power : 77.5 W\n",
      "[codecarbon INFO @ 00:34:24] 0.051621 kWh of electricity used since the beginning.\n",
      "[codecarbon INFO @ 00:34:39] Energy consumed for RAM : 0.006750 kWh. RAM Power : 48.0 W\n",
      "[codecarbon INFO @ 00:34:39] Energy consumed for all GPUs : 0.035041 kWh. Total GPU Power : 152.212 W\n",
      "[codecarbon INFO @ 00:34:39] Energy consumed for all CPUs : 0.010987 kWh. Total CPU Power : 77.5 W\n",
      "[codecarbon INFO @ 00:34:39] 0.052778 kWh of electricity used since the beginning.\n",
      "[codecarbon INFO @ 00:34:54] Energy consumed for RAM : 0.006948 kWh. RAM Power : 48.0 W\n",
      "[codecarbon INFO @ 00:34:54] Energy consumed for all GPUs : 0.036283 kWh. Total GPU Power : 298.493 W\n",
      "[codecarbon INFO @ 00:34:54] Energy consumed for all CPUs : 0.011310 kWh. Total CPU Power : 77.5 W\n",
      "[codecarbon INFO @ 00:34:54] 0.054541 kWh of electricity used since the beginning.\n",
      "[codecarbon INFO @ 00:35:09] Energy consumed for RAM : 0.007147 kWh. RAM Power : 48.0 W\n",
      "[codecarbon INFO @ 00:35:09] Energy consumed for all GPUs : 0.036935 kWh. Total GPU Power : 156.37800000000001 W\n",
      "[codecarbon INFO @ 00:35:09] Energy consumed for all CPUs : 0.011634 kWh. Total CPU Power : 77.5 W\n",
      "[codecarbon INFO @ 00:35:09] 0.055716 kWh of electricity used since the beginning.\n",
      "[codecarbon INFO @ 00:35:24] Energy consumed for RAM : 0.007345 kWh. RAM Power : 48.0 W\n",
      "[codecarbon INFO @ 00:35:24] Energy consumed for all GPUs : 0.038198 kWh. Total GPU Power : 303.696 W\n",
      "[codecarbon INFO @ 00:35:24] Energy consumed for all CPUs : 0.011956 kWh. Total CPU Power : 77.5 W\n",
      "[codecarbon INFO @ 00:35:24] 0.057500 kWh of electricity used since the beginning.\n",
      "[codecarbon INFO @ 00:35:39] Energy consumed for RAM : 0.007544 kWh. RAM Power : 48.0 W\n",
      "[codecarbon INFO @ 00:35:39] Energy consumed for all GPUs : 0.039439 kWh. Total GPU Power : 294.116 W\n",
      "[codecarbon INFO @ 00:35:39] Energy consumed for all CPUs : 0.012283 kWh. Total CPU Power : 77.5 W\n",
      "[codecarbon INFO @ 00:35:39] 0.059266 kWh of electricity used since the beginning.\n",
      "[codecarbon INFO @ 00:35:54] Energy consumed for RAM : 0.007740 kWh. RAM Power : 48.0 W\n",
      "[codecarbon INFO @ 00:35:54] Energy consumed for all GPUs : 0.040644 kWh. Total GPU Power : 293.133 W\n",
      "[codecarbon INFO @ 00:35:54] Energy consumed for all CPUs : 0.012602 kWh. Total CPU Power : 77.5 W\n",
      "[codecarbon INFO @ 00:35:54] 0.060987 kWh of electricity used since the beginning.\n",
      "[codecarbon INFO @ 00:36:09] Energy consumed for RAM : 0.007939 kWh. RAM Power : 48.0 W\n",
      "[codecarbon INFO @ 00:36:09] Energy consumed for all GPUs : 0.041814 kWh. Total GPU Power : 280.061 W\n",
      "[codecarbon INFO @ 00:36:09] Energy consumed for all CPUs : 0.012926 kWh. Total CPU Power : 77.5 W\n",
      "[codecarbon INFO @ 00:36:09] 0.062680 kWh of electricity used since the beginning.\n",
      "[codecarbon INFO @ 00:36:24] Energy consumed for RAM : 0.008137 kWh. RAM Power : 48.0 W\n",
      "[codecarbon INFO @ 00:36:24] Energy consumed for all GPUs : 0.043081 kWh. Total GPU Power : 305.045 W\n",
      "[codecarbon INFO @ 00:36:24] Energy consumed for all CPUs : 0.013249 kWh. Total CPU Power : 77.5 W\n",
      "[codecarbon INFO @ 00:36:24] 0.064467 kWh of electricity used since the beginning.\n",
      "[codecarbon INFO @ 00:36:39] Energy consumed for RAM : 0.008336 kWh. RAM Power : 48.0 W\n",
      "[codecarbon INFO @ 00:36:39] Energy consumed for all GPUs : 0.044252 kWh. Total GPU Power : 281.049 W\n",
      "[codecarbon INFO @ 00:36:39] Energy consumed for all CPUs : 0.013572 kWh. Total CPU Power : 77.5 W\n",
      "[codecarbon INFO @ 00:36:39] 0.066159 kWh of electricity used since the beginning.\n",
      "[codecarbon INFO @ 00:36:54] Energy consumed for RAM : 0.008534 kWh. RAM Power : 48.0 W\n",
      "[codecarbon INFO @ 00:36:54] Energy consumed for all GPUs : 0.045468 kWh. Total GPU Power : 291.582 W\n",
      "[codecarbon INFO @ 00:36:54] Energy consumed for all CPUs : 0.013895 kWh. Total CPU Power : 77.5 W\n",
      "[codecarbon INFO @ 00:36:54] 0.067897 kWh of electricity used since the beginning.\n",
      "/work/acslab/users/manning/LLM/lib/python3.10/site-packages/transformers/modeling_utils.py:1837: UserWarning: You are calling `save_pretrained` to a 8-bit converted model you may likely encounter unexepected behaviors. If you want to save 8-bit models, make sure to have `bitsandbytes>0.37.2` installed.\n",
      "  warnings.warn(\n",
      "[codecarbon WARNING @ 00:38:09] Background scheduler didn't run for a long period (75s), results might be inaccurate\n",
      "[codecarbon INFO @ 00:38:09] Energy consumed for RAM : 0.009539 kWh. RAM Power : 48.0 W\n",
      "[codecarbon INFO @ 00:38:14] Energy consumed for all GPUs : 0.047150 kWh. Total GPU Power : 75.356 W\n",
      "[codecarbon INFO @ 00:38:14] Energy consumed for all CPUs : 0.015625 kWh. Total CPU Power : 77.5 W\n",
      "[codecarbon INFO @ 00:38:14] 0.072314 kWh of electricity used since the beginning.\n",
      "/work/acslab/users/manning/LLM/lib/python3.10/site-packages/bitsandbytes/autograd/_functions.py:322: UserWarning: MatMul8bitLt: inputs will be cast from torch.float32 to float16 during quantization\n",
      "  warnings.warn(f\"MatMul8bitLt: inputs will be cast from {A.dtype} to float16 during quantization\")\n",
      "[codecarbon INFO @ 00:38:29] Energy consumed for RAM : 0.009736 kWh. RAM Power : 48.0 W\n",
      "[codecarbon INFO @ 00:38:29] Energy consumed for all GPUs : 0.047683 kWh. Total GPU Power : 129.589 W\n",
      "[codecarbon INFO @ 00:38:29] Energy consumed for all CPUs : 0.015944 kWh. Total CPU Power : 77.5 W\n",
      "[codecarbon INFO @ 00:38:29] 0.073363 kWh of electricity used since the beginning.\n",
      "[codecarbon INFO @ 00:38:44] Energy consumed for RAM : 0.009934 kWh. RAM Power : 48.0 W\n",
      "[codecarbon INFO @ 00:38:44] Energy consumed for all GPUs : 0.048958 kWh. Total GPU Power : 306.895 W\n",
      "[codecarbon INFO @ 00:38:44] Energy consumed for all CPUs : 0.016267 kWh. Total CPU Power : 77.5 W\n",
      "[codecarbon INFO @ 00:38:44] 0.075158 kWh of electricity used since the beginning.\n",
      "[codecarbon INFO @ 00:38:59] Energy consumed for RAM : 0.010133 kWh. RAM Power : 48.0 W\n",
      "[codecarbon INFO @ 00:38:59] Energy consumed for all GPUs : 0.050276 kWh. Total GPU Power : 316.061 W\n",
      "[codecarbon INFO @ 00:38:59] Energy consumed for all CPUs : 0.016590 kWh. Total CPU Power : 77.5 W\n",
      "[codecarbon INFO @ 00:38:59] 0.076999 kWh of electricity used since the beginning.\n",
      "[codecarbon INFO @ 00:39:14] Energy consumed for RAM : 0.010331 kWh. RAM Power : 48.0 W\n",
      "[codecarbon INFO @ 00:39:14] Energy consumed for all GPUs : 0.051512 kWh. Total GPU Power : 296.35200000000003 W\n",
      "[codecarbon INFO @ 00:39:14] Energy consumed for all CPUs : 0.016914 kWh. Total CPU Power : 77.5 W\n",
      "[codecarbon INFO @ 00:39:14] 0.078757 kWh of electricity used since the beginning.\n",
      "[codecarbon INFO @ 00:39:29] Energy consumed for RAM : 0.010529 kWh. RAM Power : 48.0 W\n",
      "[codecarbon INFO @ 00:39:29] Energy consumed for all GPUs : 0.052749 kWh. Total GPU Power : 297.798 W\n",
      "[codecarbon INFO @ 00:39:29] Energy consumed for all CPUs : 0.017236 kWh. Total CPU Power : 77.5 W\n",
      "[codecarbon INFO @ 00:39:29] 0.080514 kWh of electricity used since the beginning.\n",
      "[codecarbon INFO @ 00:39:44] Energy consumed for RAM : 0.010728 kWh. RAM Power : 48.0 W\n",
      "[codecarbon INFO @ 00:39:44] Energy consumed for all GPUs : 0.054031 kWh. Total GPU Power : 306.494 W\n",
      "[codecarbon INFO @ 00:39:44] Energy consumed for all CPUs : 0.017560 kWh. Total CPU Power : 77.5 W\n",
      "[codecarbon INFO @ 00:39:44] 0.082319 kWh of electricity used since the beginning.\n",
      "[codecarbon INFO @ 00:39:59] Energy consumed for RAM : 0.010926 kWh. RAM Power : 48.0 W\n",
      "[codecarbon INFO @ 00:39:59] Energy consumed for all GPUs : 0.055261 kWh. Total GPU Power : 296.573 W\n",
      "[codecarbon INFO @ 00:39:59] Energy consumed for all CPUs : 0.017882 kWh. Total CPU Power : 77.5 W\n",
      "[codecarbon INFO @ 00:39:59] 0.084069 kWh of electricity used since the beginning.\n",
      "[codecarbon INFO @ 00:40:14] Energy consumed for RAM : 0.011125 kWh. RAM Power : 48.0 W\n",
      "[codecarbon INFO @ 00:40:14] Energy consumed for all GPUs : 0.056221 kWh. Total GPU Power : 230.251 W\n",
      "[codecarbon INFO @ 00:40:14] Energy consumed for all CPUs : 0.018205 kWh. Total CPU Power : 77.5 W\n",
      "[codecarbon INFO @ 00:40:14] 0.085551 kWh of electricity used since the beginning.\n",
      "[codecarbon INFO @ 00:40:29] Energy consumed for RAM : 0.011323 kWh. RAM Power : 48.0 W\n",
      "[codecarbon INFO @ 00:40:29] Energy consumed for all GPUs : 0.057426 kWh. Total GPU Power : 289.526 W\n",
      "[codecarbon INFO @ 00:40:29] Energy consumed for all CPUs : 0.018528 kWh. Total CPU Power : 77.5 W\n",
      "[codecarbon INFO @ 00:40:29] 0.087277 kWh of electricity used since the beginning.\n",
      "[codecarbon INFO @ 00:40:44] Energy consumed for RAM : 0.011522 kWh. RAM Power : 48.0 W\n",
      "[codecarbon INFO @ 00:40:44] Energy consumed for all GPUs : 0.058664 kWh. Total GPU Power : 296.656 W\n",
      "[codecarbon INFO @ 00:40:44] Energy consumed for all CPUs : 0.018852 kWh. Total CPU Power : 77.5 W\n",
      "[codecarbon INFO @ 00:40:44] 0.089037 kWh of electricity used since the beginning.\n",
      "[codecarbon INFO @ 00:40:59] Energy consumed for RAM : 0.011720 kWh. RAM Power : 48.0 W\n",
      "[codecarbon INFO @ 00:40:59] Energy consumed for all GPUs : 0.059939 kWh. Total GPU Power : 306.849 W\n",
      "[codecarbon INFO @ 00:40:59] Energy consumed for all CPUs : 0.019174 kWh. Total CPU Power : 77.5 W\n",
      "[codecarbon INFO @ 00:40:59] 0.090833 kWh of electricity used since the beginning.\n",
      "[codecarbon INFO @ 00:41:14] Energy consumed for RAM : 0.011919 kWh. RAM Power : 48.0 W\n",
      "[codecarbon INFO @ 00:41:14] Energy consumed for all GPUs : 0.061142 kWh. Total GPU Power : 288.558 W\n",
      "[codecarbon INFO @ 00:41:14] Energy consumed for all CPUs : 0.019498 kWh. Total CPU Power : 77.5 W\n",
      "[codecarbon INFO @ 00:41:14] 0.092559 kWh of electricity used since the beginning.\n",
      "[codecarbon INFO @ 00:41:29] Energy consumed for RAM : 0.012117 kWh. RAM Power : 48.0 W\n",
      "[codecarbon INFO @ 00:41:29] Energy consumed for all GPUs : 0.062381 kWh. Total GPU Power : 297.709 W\n",
      "[codecarbon INFO @ 00:41:29] Energy consumed for all CPUs : 0.019820 kWh. Total CPU Power : 77.5 W\n",
      "[codecarbon INFO @ 00:41:29] 0.094318 kWh of electricity used since the beginning.\n",
      "[codecarbon INFO @ 00:41:44] Energy consumed for RAM : 0.012316 kWh. RAM Power : 48.0 W\n",
      "[codecarbon INFO @ 00:41:44] Energy consumed for all GPUs : 0.063032 kWh. Total GPU Power : 156.032 W\n",
      "[codecarbon INFO @ 00:41:44] Energy consumed for all CPUs : 0.020144 kWh. Total CPU Power : 77.5 W\n",
      "[codecarbon INFO @ 00:41:44] 0.095492 kWh of electricity used since the beginning.\n",
      "[codecarbon INFO @ 00:41:59] Energy consumed for RAM : 0.012515 kWh. RAM Power : 48.0 W\n",
      "[codecarbon INFO @ 00:41:59] Energy consumed for all GPUs : 0.064295 kWh. Total GPU Power : 303.948 W\n",
      "[codecarbon INFO @ 00:41:59] Energy consumed for all CPUs : 0.020466 kWh. Total CPU Power : 77.5 W\n",
      "[codecarbon INFO @ 00:41:59] 0.097276 kWh of electricity used since the beginning.\n",
      "[codecarbon INFO @ 00:42:14] Energy consumed for RAM : 0.012713 kWh. RAM Power : 48.0 W\n",
      "[codecarbon INFO @ 00:42:14] Energy consumed for all GPUs : 0.065028 kWh. Total GPU Power : 175.51500000000004 W\n",
      "[codecarbon INFO @ 00:42:14] Energy consumed for all CPUs : 0.020790 kWh. Total CPU Power : 77.5 W\n",
      "[codecarbon INFO @ 00:42:14] 0.098532 kWh of electricity used since the beginning.\n",
      "[codecarbon INFO @ 00:42:29] Energy consumed for RAM : 0.012912 kWh. RAM Power : 48.0 W\n",
      "[codecarbon INFO @ 00:42:29] Energy consumed for all GPUs : 0.066290 kWh. Total GPU Power : 303.648 W\n",
      "[codecarbon INFO @ 00:42:29] Energy consumed for all CPUs : 0.021113 kWh. Total CPU Power : 77.5 W\n",
      "[codecarbon INFO @ 00:42:29] 0.100314 kWh of electricity used since the beginning.\n",
      "[codecarbon INFO @ 00:42:44] Energy consumed for RAM : 0.013110 kWh. RAM Power : 48.0 W\n",
      "[codecarbon INFO @ 00:42:44] Energy consumed for all GPUs : 0.066991 kWh. Total GPU Power : 168.06700000000004 W\n",
      "[codecarbon INFO @ 00:42:44] Energy consumed for all CPUs : 0.021436 kWh. Total CPU Power : 77.5 W\n",
      "[codecarbon INFO @ 00:42:44] 0.101538 kWh of electricity used since the beginning.\n"
     ]
    }
   ],
   "source": [
    "import pynvml\n",
    "import time\n",
    "\n",
    "# def log_gpu_memory_usage():\n",
    "#     num_gpus = pynvml.nvmlDeviceGetCount()\n",
    "#     for i in range(num_gpus):\n",
    "#         handle = pynvml.nvmlDeviceGetHandleByIndex(i)\n",
    "#         info = pynvml.nvmlDeviceGetMemoryInfo(handle)\n",
    "#         print(f\"GPU {i} Memory Used: {info.used / (1024)} GB\")\n",
    "\n",
    "\n",
    "for epoch in range(3):\n",
    "    trainer.train()\n",
    "\n",
    "    print(f\"VRAM Usage: {GPUtil.getGPUs()[0].memoryUsed / 1024} GB\")\n",
    "\n",
    "\n",
    "    \n",
    "\n",
    "    "
   ]
  },
  {
   "cell_type": "code",
   "execution_count": null,
   "id": "dc6defbe-fb75-4ee7-8e9c-5144fc944a00",
   "metadata": {},
   "outputs": [],
   "source": [
    "import math\n",
    "\n",
    "eval_results = trainer.evaluate()\n",
    "print(f\"Perplexity: {math.exp(eval_results['eval_loss']):.2f}\")"
   ]
  },
  {
   "cell_type": "code",
   "execution_count": null,
   "id": "e57bc762-5f24-4820-aecd-0d94c4c99f26",
   "metadata": {},
   "outputs": [],
   "source": [
    "finetuned_Llama = TextGenerator(\"/work/acslab/shared/models/finetuned--Llama-2-7b-hf\", max_length=128, eight_bit=True)\n",
    "\n"
   ]
  },
  {
   "cell_type": "code",
   "execution_count": null,
   "id": "fecc81ac-9f62-4a03-b682-0e1e2f978558",
   "metadata": {},
   "outputs": [],
   "source": [
    "response1 = finetuned_Llama.generate_text(prompts[0], max_length=128, test_tps_speed=True)\n",
    "\n",
    "response2 = finetuned_Llama.generate_text(prompts[1], max_length=128, test_tps_speed=True)\n",
    "\n",
    "response3 = finetuned_Llama.generate_text(prompts[2], max_length=128, test_tps_speed=True)\n",
    "\n",
    "response4 = finetuned_Llama.generate_text(prompts[3], max_length=128, test_tps_speed=True)\n",
    "\n",
    "response5 = finetuned_Llama.generate_text(prompts[4], max_length=128, test_tps_speed=True)\n"
   ]
  },
  {
   "cell_type": "code",
   "execution_count": 43,
   "id": "febc9cd3",
   "metadata": {},
   "outputs": [
    {
     "data": {
      "image/png": "[encoded data removed]",
      "text/plain": [
       "<Figure size 1800x1200 with 1 Axes>"
      ]
     },
     "metadata": {},
     "output_type": "display_data"
    },
    {
     "data": {
      "text/plain": [
       "<Figure size 640x480 with 0 Axes>"
      ]
     },
     "metadata": {},
     "output_type": "display_data"
    }
   ],
   "source": [
    "import matplotlib.pyplot as plt\n",
    "import seaborn as sns\n",
    "\n",
    "import numpy as np\n",
    "\n",
    "plt.figure(figsize=(18, 12))\n",
    "sns.barplot(data=df, x=\"Model\", hue=\"Quantization\", y=\"VRAM Usage with Model (GB)\", palette='bright')\n",
    "\n",
    "plt.title(\"VRAM Usage by Model and Quantization\", fontsize=24)\n",
    "plt.xticks(fontsize=24)\n",
    "plt.yticks(fontsize=24)\n",
    "plt.xlabel('Model', fontsize=28)\n",
    "plt.ylabel('VRAM Usage (GB)', fontsize=24)\n",
    "\n",
    "plt.legend(title=\"Quantization\", title_fontsize=30, fontsize=30)\n",
    "plt.tight_layout()\n",
    "plt.show()\n",
    "plt.savefig(\"/work/acslab/users/manning/vram.png\")"
   ]
  },
  {
   "cell_type": "code",
   "execution_count": 7,
   "id": "3d3f0b0c",
   "metadata": {},
   "outputs": [
    {
     "name": "stdout",
     "output_type": "stream",
     "text": [
      "Mon Sep 18 21:18:00 2023       \r\n",
      "+---------------------------------------------------------------------------------------+\r\n",
      "| NVIDIA-SMI 530.30.02              Driver Version: 530.30.02    CUDA Version: 12.1     |\r\n",
      "|-----------------------------------------+----------------------+----------------------+\r\n",
      "| GPU  Name                  Persistence-M| Bus-Id        Disp.A | Volatile Uncorr. ECC |\r\n",
      "| Fan  Temp  Perf            Pwr:Usage/Cap|         Memory-Usage | GPU-Util  Compute M. |\r\n",
      "|                                         |                      |               MIG M. |\r\n",
      "|=========================================+======================+======================|\r\n",
      "|   0  NVIDIA A100 80GB PCIe           Off| 00000000:01:00.0 Off |                    0 |\r\n",
      "| N/A   40C    P0               68W / 300W|   8063MiB / 81920MiB |      0%      Default |\r\n",
      "|                                         |                      |             Disabled |\r\n",
      "+-----------------------------------------+----------------------+----------------------+\r\n",
      "                                                                                         \r\n",
      "+---------------------------------------------------------------------------------------+\r\n",
      "| Processes:                                                                            |\r\n",
      "|  GPU   GI   CI        PID   Type   Process name                            GPU Memory |\r\n",
      "|        ID   ID                                                             Usage      |\r\n",
      "|=======================================================================================|\r\n",
      "|    0   N/A  N/A     60624      C   ...acslab/users/manning/LLM/bin/python     8060MiB |\r\n",
      "+---------------------------------------------------------------------------------------+\r\n"
     ]
    }
   ],
   "source": [
    "model.device\n",
    "!nvidia-smi"
   ]
  },
  {
   "cell_type": "code",
   "execution_count": 9,
   "id": "55f704cc",
   "metadata": {},
   "outputs": [
    {
     "name": "stdout",
     "output_type": "stream",
     "text": [
      "Can you explain computer science to me a if I was 5 years old?\n",
      "\n",
      "Computer science is like playing with toys! Imagine you have a bunch of blocks, Legos, or dolls. You can use them to build things, like a castle or a car. But, instead of using blocks and Legos, we use something called a computer.\n",
      "A computer is like a big toy box that can do lots of things for us. It can play games, show pictures, and even talk to us! Just like how you can use your toys to make something fun, a computer can use\n"
     ]
    }
   ],
   "source": [
    "prompt = \"Can you explain computer science to me a if I was 5 years old?\"\n",
    "generated_text = gen_response(prompt)\n",
    "print(generated_text)"
   ]
  },
  {
   "cell_type": "code",
   "execution_count": null,
   "id": "53f2869d",
   "metadata": {},
   "outputs": [],
   "source": []
  }
 ],
 "metadata": {
  "kernelspec": {
   "display_name": "Python 3 (ipykernel)",
   "language": "python",
   "name": "python3"
  },
  "language_info": {
   "codemirror_mode": {
    "name": "ipython",
    "version": 3
   },
   "file_extension": ".py",
   "mimetype": "text/x-python",
   "name": "python",
   "nbconvert_exporter": "python",
   "pygments_lexer": "ipython3",
   "version": "3.10.13"
  }
 },
 "nbformat": 4,
 "nbformat_minor": 5
}
